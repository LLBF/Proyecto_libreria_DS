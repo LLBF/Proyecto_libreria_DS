{
 "cells": [
  {
   "cell_type": "code",
   "execution_count": 4,
   "metadata": {},
   "outputs": [
    {
     "data": {
      "text/html": [
       "        <script type=\"text/javascript\">\n",
       "        window.PlotlyConfig = {MathJaxConfig: 'local'};\n",
       "        if (window.MathJax && window.MathJax.Hub && window.MathJax.Hub.Config) {window.MathJax.Hub.Config({SVG: {font: \"STIX-Web\"}});}\n",
       "        if (typeof require !== 'undefined') {\n",
       "        require.undef(\"plotly\");\n",
       "        requirejs.config({\n",
       "            paths: {\n",
       "                'plotly': ['https://cdn.plot.ly/plotly-2.14.0.min']\n",
       "            }\n",
       "        });\n",
       "        require(['plotly'], function(Plotly) {\n",
       "            window._Plotly = Plotly;\n",
       "        });\n",
       "        }\n",
       "        </script>\n",
       "        "
      ]
     },
     "metadata": {},
     "output_type": "display_data"
    }
   ],
   "source": [
    "from sklearn.decomposition import PCA\n",
    "from sklearn.preprocessing import StandardScaler\n",
    "\n",
    "from mpl_toolkits import mplot3d\n",
    "%matplotlib inline\n",
    "import numpy as np\n",
    "import pandas as pd\n",
    "import matplotlib.pyplot as plt\n",
    "from plotly.offline import init_notebook_mode, iplot, plot\n",
    "import plotly as py\n",
    "init_notebook_mode(connected=True)\n",
    "import plotly.graph_objs as go\n",
    "\n",
    "def pca_visualization(df):\n",
    "\n",
    "    \"\"\"Escala los datos del dataframe original y aplica un PCA para reducir el numero de columnas original a 3 columnas.\n",
    "    Teniendo 3 columnas / componentes principales, los datos pueden ser representados en un grafico de dispersión 3D.\n",
    "\n",
    "    Args:\n",
    "        df (DataFrame): Base de datos original sin la columna target\n",
    "\n",
    "    Returns:\n",
    "        3D Scatter Plot: Gráfico de dispersión 3D tras aplicar el PCA\n",
    "        Varianza explicada acumulada para 3 componentes principales: Devuelve la suma de la varianza \n",
    "        explicada para 3 componentes principales. Esto informa de cuánta información se está perdiendo con el PCA.\n",
    "    \"\"\"\n",
    "    \n",
    "    scal = StandardScaler() \n",
    "    X_scal = scal.fit_transform(df)\n",
    "\n",
    "    pca = PCA(n_components=3)\n",
    "    X_pca = pca.fit_transform(X_scal)\n",
    "\n",
    "    principalDf = pd.DataFrame(data = X_pca, columns= ['P1', 'P2', 'P3'])\n",
    "\n",
    "    xdata = principalDf['P1']\n",
    "    ydata = principalDf['P2']\n",
    "    zdata = principalDf['P3']\n",
    "\n",
    "    trace1 = go.Scatter3d(x = xdata,\n",
    "                        y = ydata,\n",
    "                        z = zdata,\n",
    "                        mode = 'markers',\n",
    "                        marker = dict(size = 5, color = 'rgb(255,0,0)'))\n",
    "\n",
    "    data = [trace1]\n",
    "    layout = go.Layout(margin = dict(l=0,\n",
    "                                    r=0,\n",
    "                                    b=0,\n",
    "                                    t=0))\n",
    "\n",
    "    fig = go.Figure(data=data, layout=layout)\n",
    "\n",
    "    expl = pca.explained_variance_ratio_\n",
    "    print('Cumulative explained variance with 3 principal components:', round(np.sum(expl[0:3]),2))\n",
    "    iplot(fig)"
   ]
  },
  {
   "cell_type": "code",
   "execution_count": null,
   "metadata": {},
   "outputs": [],
   "source": [
    "def my_pca(n_components, df):\n",
    "    \n",
    "    \"\"\"Escala los datos del DataFrame original y aplica un PCA con el numero de componentes principales deseado.\n",
    "    \n",
    "        Args:\n",
    "            df (DataFrame): Base de datos original sin la columna target\n",
    "            \n",
    "        Returns:\n",
    "            Varianza explicada acumulada : Devuelve la suma de la varianza explicada para los componentes principales deseados. \n",
    "    \"\"\"\n",
    "\n",
    "    scal = StandardScaler() \n",
    "    X_scal = scal.fit_transform(df)\n",
    "\n",
    "    pca = PCA(n_components = n_components)\n",
    "    X_pca = pca.fit_transform(X_scal)\n",
    "\n",
    "    expl = pca.explained_variance_ratio_\n",
    "    print('Varianza acumulada', np.cumsum(expl))\n",
    "\n",
    "    plt.plot(np.cumsum(pca.explained_variance_ratio_))\n",
    "    plt.xlabel('Number of components')\n",
    "    plt.ylabel('Cumulative explained variance')    \n",
    "    plt.xticks(np.arange(0, n_components, step=1))"
   ]
  },
  {
   "cell_type": "code",
   "execution_count": null,
   "metadata": {},
   "outputs": [],
   "source": [
    "from sklearn.cluster import KMeans\n",
    "from sklearn.metrics import silhouette_score\n",
    "\n",
    "\n",
    "def my_kmeans(n_clusters, df):\n",
    "    \n",
    "    \"\"\"Escala los datos del DataFrame original y aplica un KMeans con el numero de clusters deseado.\n",
    "    \n",
    "        Args:\n",
    "            df (DataFrame): Base de datos original sin la columna target\n",
    "\n",
    "        Returns:\n",
    "            Inercias para cada modelo de KMeans y un grafico para visualizar los resultados\n",
    "            Silhouette scores para cada modelo de Kmeans y un grafico para visualizar los resultados\n",
    "         \n",
    "    \"\"\"\n",
    "    \n",
    "    scal = StandardScaler() \n",
    "    X_scal = scal.fit_transform(df)\n",
    "\n",
    "    kmeans_per_k = [KMeans(n_clusters=k,random_state=42).fit(X_scal) for k in range(2, n_clusters+1)]\n",
    "    inertias = [model.inertia_ for model in kmeans_per_k]   \n",
    "\n",
    "    plt.figure(figsize=(8, 3.5))\n",
    "\n",
    "    plt.plot(range(2, n_clusters+1), inertias, \"bo-\")\n",
    "    plt.xlabel(\"$k$\", fontsize=14)\n",
    "    plt.ylabel(\"Inertia\", fontsize=14)\n",
    "    plt.show()\n",
    "\n",
    "    silhouette_scores = [silhouette_score(X_scal, model.labels_) for model in kmeans_per_k]\n",
    "    plt.figure(figsize=(8, 3))\n",
    "    plt.plot(range(2, n_clusters+1), silhouette_scores, \"bo-\")\n",
    "    plt.xlabel(\"$k$\", fontsize=14)\n",
    "    plt.ylabel(\"Silhouette score\", fontsize=14)\n",
    "\n",
    "    return inertias, silhouette_scores"
   ]
  },
  {
   "cell_type": "code",
   "execution_count": 6,
   "metadata": {},
   "outputs": [
    {
     "name": "stdout",
     "output_type": "stream",
     "text": [
      "Help on function pca_visualization in module __main__:\n",
      "\n",
      "pca_visualization(df)\n",
      "    Escala los datos del dataframe original y aplica un PCA para reducir el numero de columnas original a 3 columnas.\n",
      "    Teniendo 3 columnas / componentes principales, los datos pueden ser representados en un grafico de dispersión 3D.\n",
      "    \n",
      "    Args:\n",
      "        df (DataFrame): Base de datos original sin la columna target\n",
      "    \n",
      "    Returns:\n",
      "        3D Scatter Plot: Gráfico de dispersión 3D tras aplicar el PCA\n",
      "        Varianza explicada acumulada para 3 componentes principales: Devuelve la suma de la varianza \n",
      "        explicada para 3 componentes principales. \n",
      "            Esto informa de cuánta información se está perdiendo con el PCA.\n",
      "\n"
     ]
    }
   ],
   "source": [
    "help(pca_visualization)"
   ]
  }
 ],
 "metadata": {
  "kernelspec": {
   "display_name": "Python 3.7.4 64-bit",
   "language": "python",
   "name": "python3"
  },
  "language_info": {
   "codemirror_mode": {
    "name": "ipython",
    "version": 3
   },
   "file_extension": ".py",
   "mimetype": "text/x-python",
   "name": "python",
   "nbconvert_exporter": "python",
   "pygments_lexer": "ipython3",
   "version": "3.7.4"
  },
  "orig_nbformat": 4,
  "vscode": {
   "interpreter": {
    "hash": "aee8b7b246df8f9039afb4144a1f6fd8d2ca17a180786b69acc140d282b71a49"
   }
  }
 },
 "nbformat": 4,
 "nbformat_minor": 2
}
